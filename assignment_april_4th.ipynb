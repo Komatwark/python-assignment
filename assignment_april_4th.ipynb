{
  "nbformat": 4,
  "nbformat_minor": 0,
  "metadata": {
    "colab": {
      "provenance": [],
      "authorship_tag": "ABX9TyMPghRfSy3uD71+axmHVLml",
      "include_colab_link": true
    },
    "kernelspec": {
      "name": "python3",
      "display_name": "Python 3"
    },
    "language_info": {
      "name": "python"
    }
  },
  "cells": [
    {
      "cell_type": "markdown",
      "metadata": {
        "id": "view-in-github",
        "colab_type": "text"
      },
      "source": [
        "<a href=\"https://colab.research.google.com/github/Komatwark/python-assignment/blob/main/assignment_april_4th.ipynb\" target=\"_parent\"><img src=\"https://colab.research.google.com/assets/colab-badge.svg\" alt=\"Open In Colab\"/></a>"
      ]
    },
    {
      "cell_type": "code",
      "execution_count": 18,
      "metadata": {
        "colab": {
          "base_uri": "https://localhost:8080/"
        },
        "id": "ePXNCOpmLRLb",
        "outputId": "9f436655-1f86-45a2-ccfb-8da5d30962e7"
      },
      "outputs": [
        {
          "output_type": "execute_result",
          "data": {
            "text/plain": [
              "14"
            ]
          },
          "metadata": {},
          "execution_count": 18
        }
      ],
      "source": [
        "# #22. Write a Python program to find the third-largest number in a list\n",
        "list_1 = [10,2,13,14,5,88,99,1]\n",
        "ls1 = sorted(list_1,reverse= True)\n",
        "thirdlarg = ls1[2]\n",
        "thirdlarg\n"
      ]
    },
    {
      "cell_type": "code",
      "source": [
        "#23. Write a Python program to get the frequency of the elements in a list.\n",
        "list_1 = [1,4,8,6,7,3,85,42]\n",
        "freq = {}\n",
        "\n",
        "for item in list_1:\n",
        "    if item in freq:\n",
        "        freq[item] += 1\n",
        "    else:\n",
        "        freq[item] = 1\n",
        "\n",
        "print(freq)\n"
      ],
      "metadata": {
        "colab": {
          "base_uri": "https://localhost:8080/"
        },
        "id": "WNn3cA1QPZF1",
        "outputId": "76654be8-3cb7-4559-f564-4938d5224488"
      },
      "execution_count": 15,
      "outputs": [
        {
          "output_type": "stream",
          "name": "stdout",
          "text": [
            "{1: 1, 4: 1, 8: 1, 6: 1, 7: 1, 3: 1, 85: 1, 42: 1}\n"
          ]
        }
      ]
    },
    {
      "cell_type": "code",
      "source": [
        "#24. Write a Python program to check whether a list contains a sublist\n",
        "def contains_sublist(main_list, sub_list):\n",
        "    n, m = len(main_list), len(sub_list)\n",
        "    for i in range(n - m + 1):\n",
        "        if main_list[i:i + m] == sub_list:\n",
        "            return True\n",
        "    return False\n",
        "\n",
        "main = [1, 2, 3, 4, 5, 6]\n",
        "sub = [3, 4, 5]\n",
        "\n",
        "print(contains_sublist(main, sub))"
      ],
      "metadata": {
        "colab": {
          "base_uri": "https://localhost:8080/"
        },
        "id": "2ba8ngU-PkIK",
        "outputId": "78bf38c9-3355-4251-fc72-51c95a6527aa"
      },
      "execution_count": 7,
      "outputs": [
        {
          "output_type": "stream",
          "name": "stdout",
          "text": [
            "True\n"
          ]
        }
      ]
    },
    {
      "cell_type": "code",
      "source": [
        "#25. Write a Python program to generate all sublists of a list\n",
        "\n",
        "lst = [1, 2, 3]\n",
        "sublists = [lst[i:j] for i in range(len(lst)) for j in range(i+1, len(lst)+1)]\n",
        "print(sublists)\n"
      ],
      "metadata": {
        "colab": {
          "base_uri": "https://localhost:8080/"
        },
        "id": "Xf7nB4rUPmFS",
        "outputId": "6194df60-59e3-44be-c03d-8fbc65f0d912"
      },
      "execution_count": 9,
      "outputs": [
        {
          "output_type": "stream",
          "name": "stdout",
          "text": [
            "[[1], [1, 2], [1, 2, 3], [2], [2, 3], [3]]\n"
          ]
        }
      ]
    },
    {
      "cell_type": "code",
      "source": [
        "#26. Write a Python program to find common items from two lists\n",
        "list1 = [11, 26, 53, 41]\n",
        "list2 = [53, 8, 53, 26]\n",
        "\n",
        "common = list(set(list1) & set(list2))\n",
        "print(common)\n"
      ],
      "metadata": {
        "colab": {
          "base_uri": "https://localhost:8080/"
        },
        "id": "A4ZOpjHcP4qX",
        "outputId": "bd4ecb5d-b5bd-42df-f629-cd1af13800d5"
      },
      "execution_count": 17,
      "outputs": [
        {
          "output_type": "stream",
          "name": "stdout",
          "text": [
            "[26, 53]\n"
          ]
        }
      ]
    },
    {
      "cell_type": "code",
      "source": [
        "#27. How to flatten a list in python?\n",
        "nested = [[1, 2], [3, 4], [5]]\n",
        "flat = [item for sublist in nested for item in sublist]\n",
        "print(flat)"
      ],
      "metadata": {
        "colab": {
          "base_uri": "https://localhost:8080/"
        },
        "id": "b4U6kY1WP_IY",
        "outputId": "b770f385-d2e3-46a8-a52d-bcb437758393"
      },
      "execution_count": 10,
      "outputs": [
        {
          "output_type": "stream",
          "name": "stdout",
          "text": [
            "[1, 2, 3, 4, 5]\n"
          ]
        }
      ]
    },
    {
      "cell_type": "code",
      "source": [
        "#28. How to sort a list in ascending and descending order without using the sortfunction?\n",
        "lst = [5, 2, 9, 1]\n",
        "\n",
        "asc = sorted(lst)\n",
        "desc = sorted(lst, reverse=True)\n",
        "\n",
        "print(\"Ascending:\", asc)\n",
        "print(\"Descending:\", desc)"
      ],
      "metadata": {
        "colab": {
          "base_uri": "https://localhost:8080/"
        },
        "id": "L8mz2qhXQD8I",
        "outputId": "d33c2607-e1e6-47ce-c4a2-3538487b3967"
      },
      "execution_count": 11,
      "outputs": [
        {
          "output_type": "stream",
          "name": "stdout",
          "text": [
            "Ascending: [1, 2, 5, 9]\n",
            "Descending: [9, 5, 2, 1]\n"
          ]
        }
      ]
    },
    {
      "cell_type": "code",
      "source": [
        "# 29.How to sort a tuple?\n",
        "tup = (5, 2, 9, 1)\n",
        "sorted_tup = tuple(sorted(tup))\n",
        "print(sorted_tup)"
      ],
      "metadata": {
        "colab": {
          "base_uri": "https://localhost:8080/"
        },
        "id": "Z-TVPeg3QHO5",
        "outputId": "4f212c06-78bc-4a30-9dc4-40768b7ec425"
      },
      "execution_count": 12,
      "outputs": [
        {
          "output_type": "stream",
          "name": "stdout",
          "text": [
            "(1, 2, 5, 9)\n"
          ]
        }
      ]
    },
    {
      "cell_type": "code",
      "source": [
        "# 30. Write a Python program to convert a list of multiple integers into a single integer\n",
        "# a. [11, 33, 50] >>> 113350\n",
        "lst = [11, 33, 50]\n",
        "single_integer = int(''.join(map(str, lst)))\n",
        "print(single_integer)"
      ],
      "metadata": {
        "colab": {
          "base_uri": "https://localhost:8080/"
        },
        "id": "tlcN8fvyQNUT",
        "outputId": "76d39975-113c-4a19-c34c-d3e3648688b0"
      },
      "execution_count": 13,
      "outputs": [
        {
          "output_type": "stream",
          "name": "stdout",
          "text": [
            "113350\n"
          ]
        }
      ]
    },
    {
      "cell_type": "markdown",
      "source": [
        "** Difference between del and clear?**\n",
        "\n",
        "\n",
        " **clear()**\n",
        "\n",
        "\n",
        "Used with: Mutable collections like list, dict, set, etc.\n",
        "\n",
        "Effect: Removes all items from the collection, but the object itself still exists.\n",
        "\n",
        "\n",
        " **del**\n",
        "\n",
        "\n",
        "Used to:\n",
        "\n",
        "Delete a variable entirely (i.e., remove the reference).\n",
        "\n",
        "Delete a specific item from a collection using an index or key.\n",
        "\n",
        "\n",
        "\n",
        "Effect:\n",
        "\n",
        "\n",
        "\n",
        "If used on a variable: removes it from memory.\n",
        "\n",
        "If used on an element: removes just that item."
      ],
      "metadata": {
        "id": "jMdfrLghQgTS"
      }
    },
    {
      "cell_type": "markdown",
      "source": [
        "***Difference between remove and pop?***\n",
        "\n",
        " **remove(value)**\n",
        "\n",
        "Removes the first occurrence of the specified value.\n",
        "\n",
        "Raises ValueError if the value is not found.\n",
        "\n",
        "Does not return the removed item.\n",
        "\n",
        "**pop(index)**\n",
        "\n",
        "Removes and returns the item at the specified index.\n",
        "\n",
        "If no index is given, it removes and returns the last item.\n",
        "\n",
        "Raises IndexError if the index is out of range."
      ],
      "metadata": {
        "id": "Itsmi_krUOHO"
      }
    },
    {
      "cell_type": "markdown",
      "source": [
        "**Difference between indexing and Slicing?**\n",
        "\n",
        "** Indexing**\n",
        "\n",
        "Accesses a single element by its position.\n",
        "\n",
        "Syntax: sequence[index]\n",
        "\n",
        "Returns one item.\n",
        "\n",
        "** Slicing**\n",
        "\n",
        "Accesses a range of elements (a sublist or substring).\n",
        "\n",
        "Syntax: sequence[start:stop:step]\n",
        "\n",
        "Returns a new sequence (e.g., sublist or substring)."
      ],
      "metadata": {
        "id": "DMjLgrIXUoNP"
      }
    },
    {
      "cell_type": "markdown",
      "source": [
        "**Difference between sort and sorted?**\n",
        "\n",
        "**sort()**\n",
        "Method used on lists only.\n",
        "\n",
        "Sorts the list in-place — it modifies the original list.\n",
        "\n",
        "Returns None.\n",
        "\n",
        " **sorted()**\n",
        "\n",
        "Built-in function that works with any iterable (lists, tuples, strings, etc.).\n",
        "\n",
        "Returns a new sorted list — the original data is unchanged.\n",
        "\n",
        "Can be used with key= and reverse= just like sort()."
      ],
      "metadata": {
        "id": "q0OrBANOU361"
      }
    },
    {
      "cell_type": "markdown",
      "source": [
        "**Difference between reverse and reversed?**\n",
        "\n",
        "** reverse()**\n",
        "\n",
        "List method.\n",
        "\n",
        "Reverses the list in place — modifies the original list.\n",
        "\n",
        "Returns None.\n",
        "\n",
        "**reversed()**\n",
        "\n",
        "Built-in function.\n",
        "\n",
        "Works with any iterable (like strings, tuples, lists).\n",
        "\n",
        "Returns a reversed iterator — needs to be converted to a list, tuple, etc. if you want to see the result."
      ],
      "metadata": {
        "id": "ue0OnQ86VGNj"
      }
    },
    {
      "cell_type": "markdown",
      "source": [
        "**Difference between copy and deep copy?**\n",
        "\n",
        "**copy.copy()– Shallow Copy **\n",
        "Creates a new object, but does not copy nested objects.\n",
        "\n",
        "Outer structure is copied, but inner objects are shared (i.e., referenced).\n",
        "\n",
        "Changes to nested objects affect both the original and the copy.\n",
        "\n",
        "\n",
        "**copy.deepcopy() – Deep Copy**\n",
        "Creates a completely independent clone, including all nested objects.\n",
        "\n",
        "Changes to the copy do not affect the original."
      ],
      "metadata": {
        "id": "dn9DoVJCVcPc"
      }
    },
    {
      "cell_type": "markdown",
      "source": [],
      "metadata": {
        "id": "VzJqZtU0V4r2"
      }
    }
  ]
}