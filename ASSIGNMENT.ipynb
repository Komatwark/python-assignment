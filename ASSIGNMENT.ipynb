{
  "nbformat": 4,
  "nbformat_minor": 0,
  "metadata": {
    "colab": {
      "provenance": [],
      "authorship_tag": "ABX9TyMv69FPNS/p26XGWiHKgrZk",
      "include_colab_link": true
    },
    "kernelspec": {
      "name": "python3",
      "display_name": "Python 3"
    },
    "language_info": {
      "name": "python"
    }
  },
  "cells": [
    {
      "cell_type": "markdown",
      "metadata": {
        "id": "view-in-github",
        "colab_type": "text"
      },
      "source": [
        "<a href=\"https://colab.research.google.com/github/Komatwark/python-assignment/blob/main/ASSIGNMENT.ipynb\" target=\"_parent\"><img src=\"https://colab.research.google.com/assets/colab-badge.svg\" alt=\"Open In Colab\"/></a>"
      ]
    },
    {
      "cell_type": "markdown",
      "source": [],
      "metadata": {
        "id": "D4sz_T-_jd-F"
      }
    },
    {
      "cell_type": "code",
      "execution_count": null,
      "metadata": {
        "id": "dDBa6RmaiDDG"
      },
      "outputs": [],
      "source": []
    },
    {
      "cell_type": "markdown",
      "source": [],
      "metadata": {
        "id": "d46KVk1fkTHm"
      }
    },
    {
      "cell_type": "markdown",
      "source": [
        "1. WHAT ARE THE KEY FEATURES IN PYTHON ?\n",
        "\n",
        "*   simple and easy to learn\n",
        "*   freeware and open to source\n",
        "*   high level programming language\n",
        "*   platforn independant\n",
        "*   portability\n",
        "*   dynamicaly typed\n",
        "*   both procedure oriented and object oriented\n",
        "*   interprited\n",
        "*   extensible\n",
        "*   embeded\n",
        "\n",
        "2. WHAT ARE THE DATA TYPES IN PYTHON ?\n",
        "\n",
        "*   numeric (int , float, complex number)\n",
        "*   boolean\n",
        "*   string\n",
        "*   List\n",
        "*   tuple\n",
        "*   set\n",
        "*   dict\n",
        "*   range\n",
        "*   frozenset\n",
        "\n",
        "\n",
        "\n",
        "\n",
        "\n",
        "\n",
        "\n",
        "\n",
        "\n"
      ],
      "metadata": {
        "id": "1X7rMaI5iJJT"
      }
    },
    {
      "cell_type": "markdown",
      "source": [
        "3. WRITE A LOCAL VARIABLE AND GLOBAL VARIABLE IN PYTHON?\n",
        "\n",
        "In Python, local variables are defined inside a function and can only be used within that function.\n",
        "Global variables are defined outside any function and can be accessed throughout the program.\n",
        "\n",
        "LOCAL VARIABLE\n",
        "\n",
        "def my_function():\n",
        "x = 10\n",
        "\n",
        "GLOBAL VARIABLE\n",
        "\n",
        "Y = 20"
      ],
      "metadata": {
        "id": "RXiBfDoFlDiY"
      }
    },
    {
      "cell_type": "markdown",
      "source": [
        "4. How do you write comments in python? And Why Comments are important?\n",
        "\n",
        "in pythoncomments are writen using # symbol\n",
        "\n",
        "single line comments & multi line comments ('''  ''')\n",
        "\n",
        "WHY COMMENTS ARE IMPORTANT?\n",
        "\n",
        "improve code readability,\n",
        "explain complex logic,\n",
        "faciliate debugging,\n",
        "documentation,\n",
        "collaboration,"
      ],
      "metadata": {
        "id": "orpi7iIemdIF"
      }
    },
    {
      "cell_type": "markdown",
      "source": [],
      "metadata": {
        "id": "GtFsecAQqs9T"
      }
    },
    {
      "cell_type": "markdown",
      "source": [
        "5.How to comment on multiple lines in python?\n",
        "\n",
        "MULTIPLE LINE COMENTS (\"\"\"    \"\"\")"
      ],
      "metadata": {
        "id": "rzMCpEjcq06B"
      }
    },
    {
      "cell_type": "markdown",
      "source": [
        "6. **What do you mean by Python literals?**\n",
        "\n",
        "literals in python are fixed value that are directly used in the code to represint data\n",
        "\n",
        "they are not variable or expression\n",
        "\n",
        "just a actual value"
      ],
      "metadata": {
        "id": "5NAVi3J7rE2x"
      }
    },
    {
      "cell_type": "markdown",
      "source": [
        "7. **WHAT ARE THE DIFFERANT WAY TO ASSIGN VALUES TO VARIABLE?**\n",
        "\n",
        "  1.simple assignments\n",
        "    assign a single value to a single variable\n",
        "\n",
        "    x = 1\n",
        "\n",
        "    name = \"krushna\"\n",
        "\n",
        "  2.multi assignment (same value )\n",
        "    assign the same value to multiple variable\n",
        "\n",
        "    a =b = c = 100\n",
        "\n",
        "  3. multiple assignment\n",
        "\n",
        "  x,y,z = 1,2,3\n",
        "\n",
        "  4. unpacking a collection\n",
        "\n",
        "  assign value from a list, tuple, or other iterable\n",
        "\n",
        "  number = [ 10,20,30]\n",
        "\n",
        "  a,b,c = number"
      ],
      "metadata": {
        "id": "sCYBpnZrskQA"
      }
    },
    {
      "cell_type": "markdown",
      "source": [
        "8.** WHAT ARE THE ESCAPE CHARECTERS IN PYTHON?**\n",
        "\n",
        "ESCAPE CHATECTER IN PYTHON ARE SPECIAL SEQUENCE THAT ARE USED TO REPRESENT CHARECTER THAT ARE DIFFICULT OR IMMPOSSIBLE TO TYPE DIRECTLY, SUCH AS A NEW LINE OT TAB\n",
        "\n",
        "THEY START WITH A BACKSLASH ( \\ )"
      ],
      "metadata": {
        "id": "2ccocqaLvhsm"
      }
    },
    {
      "cell_type": "markdown",
      "source": [],
      "metadata": {
        "id": "52wtKz5pxxn7"
      }
    },
    {
      "cell_type": "markdown",
      "source": [],
      "metadata": {
        "id": "8WN5JeStxuOS"
      }
    }
  ]
}