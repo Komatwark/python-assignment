{
  "nbformat": 4,
  "nbformat_minor": 0,
  "metadata": {
    "colab": {
      "provenance": [],
      "authorship_tag": "ABX9TyNMuiXMBX57/B7ab8NM8EeK",
      "include_colab_link": true
    },
    "kernelspec": {
      "name": "python3",
      "display_name": "Python 3"
    },
    "language_info": {
      "name": "python"
    }
  },
  "cells": [
    {
      "cell_type": "markdown",
      "metadata": {
        "id": "view-in-github",
        "colab_type": "text"
      },
      "source": [
        "<a href=\"https://colab.research.google.com/github/Komatwark/python-assignment/blob/main/data_types.ipynb\" target=\"_parent\"><img src=\"https://colab.research.google.com/assets/colab-badge.svg\" alt=\"Open In Colab\"/></a>"
      ]
    },
    {
      "cell_type": "code",
      "execution_count": null,
      "metadata": {
        "id": "4ySL5I2wPT59"
      },
      "outputs": [],
      "source": []
    },
    {
      "cell_type": "markdown",
      "source": [
        "Data types in python\n",
        "\n",
        "1.  numeric (int, float, complex)\n",
        "2.boolen\n",
        "3.string\n",
        "4.list\n",
        "5.tuple\n",
        "6.set\n",
        "7.dict\n",
        "8. range\n",
        "9. frozenset"
      ],
      "metadata": {
        "id": "x5wCTk2PPavw"
      }
    },
    {
      "cell_type": "code",
      "source": [
        "#numeric\n",
        "#int [0-9] are int numbers\n",
        "num1 = 21\n",
        "type(num1)"
      ],
      "metadata": {
        "colab": {
          "base_uri": "https://localhost:8080/"
        },
        "id": "Iga2uHO0Pfrp",
        "outputId": "47958c47-d3fc-4d22-fbd5-49b2ae7c9236"
      },
      "execution_count": 2,
      "outputs": [
        {
          "output_type": "execute_result",
          "data": {
            "text/plain": [
              "int"
            ]
          },
          "metadata": {},
          "execution_count": 2
        }
      ]
    },
    {
      "cell_type": "code",
      "source": [
        "#float\n",
        "num2 = 3.14\n",
        "type(num2)\n"
      ],
      "metadata": {
        "colab": {
          "base_uri": "https://localhost:8080/"
        },
        "id": "_ciKWiciQXm9",
        "outputId": "d49a0e73-24be-4aa8-e077-2877536fbb7f"
      },
      "execution_count": 4,
      "outputs": [
        {
          "output_type": "execute_result",
          "data": {
            "text/plain": [
              "float"
            ]
          },
          "metadata": {},
          "execution_count": 4
        }
      ]
    },
    {
      "cell_type": "code",
      "source": [
        "#python is a dynamically atyopoed language\n",
        "#int a = 100 ------- static\n",
        "# a = 100   --------dynamic"
      ],
      "metadata": {
        "id": "gJHhhjMZQtp8"
      },
      "execution_count": 5,
      "outputs": []
    },
    {
      "cell_type": "code",
      "source": [
        "#list: collection of multiple values\n",
        "r = [1,2,3,4,5]\n",
        "type(k)\n"
      ],
      "metadata": {
        "colab": {
          "base_uri": "https://localhost:8080/"
        },
        "id": "5I95002LQ_R9",
        "outputId": "fc776d23-447f-44db-93f4-7ffbe454f355"
      },
      "execution_count": 7,
      "outputs": [
        {
          "output_type": "execute_result",
          "data": {
            "text/plain": [
              "list"
            ]
          },
          "metadata": {},
          "execution_count": 7
        }
      ]
    },
    {
      "cell_type": "code",
      "source": [
        "#empty list\n",
        "k = []\n",
        "type(k)"
      ],
      "metadata": {
        "colab": {
          "base_uri": "https://localhost:8080/"
        },
        "id": "ZRUolvnvRPYe",
        "outputId": "6710d7e1-dad9-44d9-d9ce-24220d5a8fc3"
      },
      "execution_count": 9,
      "outputs": [
        {
          "output_type": "execute_result",
          "data": {
            "text/plain": [
              "list"
            ]
          },
          "metadata": {},
          "execution_count": 9
        }
      ]
    },
    {
      "cell_type": "code",
      "source": [
        "r\n"
      ],
      "metadata": {
        "colab": {
          "base_uri": "https://localhost:8080/",
          "height": 141
        },
        "id": "gGx566G_RZe8",
        "outputId": "1bb8758d-d3a1-4860-c857-110eaf26036d"
      },
      "execution_count": 12,
      "outputs": [
        {
          "output_type": "error",
          "ename": "NameError",
          "evalue": "name 'r' is not defined",
          "traceback": [
            "\u001b[0;31m---------------------------------------------------------------------------\u001b[0m",
            "\u001b[0;31mNameError\u001b[0m                                 Traceback (most recent call last)",
            "\u001b[0;32m<ipython-input-12-d17ca1acc36c>\u001b[0m in \u001b[0;36m<cell line: 0>\u001b[0;34m()\u001b[0m\n\u001b[0;32m----> 1\u001b[0;31m \u001b[0mr\u001b[0m\u001b[0;34m\u001b[0m\u001b[0;34m\u001b[0m\u001b[0m\n\u001b[0m",
            "\u001b[0;31mNameError\u001b[0m: name 'r' is not defined"
          ]
        }
      ]
    },
    {
      "cell_type": "code",
      "source": [
        "#tuple collection of objects\n",
        "#syntax: ()"
      ],
      "metadata": {
        "id": "Pe0YiY51Roxq"
      },
      "execution_count": 13,
      "outputs": []
    },
    {
      "cell_type": "code",
      "source": [
        "x = (1,2,3,4,)\n",
        "x,type(x)"
      ],
      "metadata": {
        "colab": {
          "base_uri": "https://localhost:8080/"
        },
        "id": "g2XJu935R_Hu",
        "outputId": "5fb6df31-e9ee-47ad-dcbd-5758892c0f48"
      },
      "execution_count": 16,
      "outputs": [
        {
          "output_type": "execute_result",
          "data": {
            "text/plain": [
              "((1, 2, 3, 4), tuple)"
            ]
          },
          "metadata": {},
          "execution_count": 16
        }
      ]
    },
    {
      "cell_type": "code",
      "source": [
        "1,2,3"
      ],
      "metadata": {
        "colab": {
          "base_uri": "https://localhost:8080/"
        },
        "id": "bQHC6wJ2SZGt",
        "outputId": "4998f789-b718-4e60-dfc5-e4d958a87517"
      },
      "execution_count": 18,
      "outputs": [
        {
          "output_type": "execute_result",
          "data": {
            "text/plain": [
              "(1, 2, 3)"
            ]
          },
          "metadata": {},
          "execution_count": 18
        }
      ]
    },
    {
      "cell_type": "code",
      "source": [
        "(1,2,3,(4+5j),[4,5,6])\n"
      ],
      "metadata": {
        "colab": {
          "base_uri": "https://localhost:8080/"
        },
        "id": "b4NhLbPGSdRj",
        "outputId": "1d1ece44-9fe4-4af7-e78a-7ee72aa02297"
      },
      "execution_count": 21,
      "outputs": [
        {
          "output_type": "execute_result",
          "data": {
            "text/plain": [
              "(1, 2, 3, (4+5j), [4, 5, 6])"
            ]
          },
          "metadata": {},
          "execution_count": 21
        }
      ]
    },
    {
      "cell_type": "code",
      "source": [
        "#set\n",
        "#syntax {}"
      ],
      "metadata": {
        "id": "OU7-vyAJS0Yr"
      },
      "execution_count": 22,
      "outputs": []
    },
    {
      "cell_type": "code",
      "source": [
        "#dictionary : dict\n",
        "#syntax : {key:value}"
      ],
      "metadata": {
        "id": "szAj74oITgdE"
      },
      "execution_count": 23,
      "outputs": []
    },
    {
      "cell_type": "code",
      "source": [
        "d = {15:55}\n",
        "type(d)\n"
      ],
      "metadata": {
        "colab": {
          "base_uri": "https://localhost:8080/"
        },
        "id": "wfk4IOT4TuLo",
        "outputId": "ed3daac6-4551-4f47-8fc1-0963815bc36f"
      },
      "execution_count": 25,
      "outputs": [
        {
          "output_type": "execute_result",
          "data": {
            "text/plain": [
              "dict"
            ]
          },
          "metadata": {},
          "execution_count": 25
        }
      ]
    },
    {
      "cell_type": "code",
      "source": [
        "len(d) #count of object present in it"
      ],
      "metadata": {
        "colab": {
          "base_uri": "https://localhost:8080/"
        },
        "id": "6VaFG2XjT4hQ",
        "outputId": "8cb65891-f344-4db7-f4af-38ac73e5b457"
      },
      "execution_count": 27,
      "outputs": [
        {
          "output_type": "execute_result",
          "data": {
            "text/plain": [
              "1"
            ]
          },
          "metadata": {},
          "execution_count": 27
        }
      ]
    },
    {
      "cell_type": "code",
      "source": [
        "list(range(1,10))"
      ],
      "metadata": {
        "colab": {
          "base_uri": "https://localhost:8080/"
        },
        "id": "q7TmrOHYUpWx",
        "outputId": "4bc7dee6-0183-4da5-864d-865eec66d897"
      },
      "execution_count": 29,
      "outputs": [
        {
          "output_type": "execute_result",
          "data": {
            "text/plain": [
              "[1, 2, 3, 4, 5, 6, 7, 8, 9]"
            ]
          },
          "metadata": {},
          "execution_count": 29
        }
      ]
    },
    {
      "cell_type": "code",
      "source": [
        "list(range(1,-20,-2))"
      ],
      "metadata": {
        "colab": {
          "base_uri": "https://localhost:8080/"
        },
        "id": "okmGD0dLU9Rx",
        "outputId": "6cd5d794-d9f4-4e77-e0ff-41b16702ad7e"
      },
      "execution_count": 41,
      "outputs": [
        {
          "output_type": "execute_result",
          "data": {
            "text/plain": [
              "[1, -1, -3, -5, -7, -9, -11, -13, -15, -17, -19]"
            ]
          },
          "metadata": {},
          "execution_count": 41
        }
      ]
    },
    {
      "cell_type": "code",
      "source": [
        "# prompt: 10 random numbers using numpy\n",
        "\n",
        "import numpy as np\n",
        "\n",
        "# Generate 10 random numbers between 0 and 1\n",
        "random_numbers = np.random.rand(10)\n",
        "\n",
        "random_numbers\n"
      ],
      "metadata": {
        "colab": {
          "base_uri": "https://localhost:8080/"
        },
        "id": "UeYeTslKVxLa",
        "outputId": "08b1dae4-584b-41bc-c4d4-b6238a8de5cf"
      },
      "execution_count": 42,
      "outputs": [
        {
          "output_type": "execute_result",
          "data": {
            "text/plain": [
              "array([0.71440018, 0.18769771, 0.90079929, 0.10104961, 0.74520377,\n",
              "       0.53092735, 0.74193466, 0.75653671, 0.22265608, 0.86391315])"
            ]
          },
          "metadata": {},
          "execution_count": 42
        }
      ]
    },
    {
      "cell_type": "code",
      "source": [],
      "metadata": {
        "id": "p-nSqBabV7pQ"
      },
      "execution_count": null,
      "outputs": []
    },
    {
      "cell_type": "markdown",
      "source": [
        "SET VS FROZENSET"
      ],
      "metadata": {
        "id": "Z0BOllXXWAwj"
      }
    },
    {
      "cell_type": "code",
      "source": [
        "#set                                                      # frozen sat\n",
        "# 1.set is a mutable(can be changed)                        1. it is a immutable(cannot be changed)\n",
        "# 2.supports : add(), remove(), clear()                     2. does not support add(), remove()\n"
      ],
      "metadata": {
        "id": "Q7JnSSM4WHGU"
      },
      "execution_count": 43,
      "outputs": []
    },
    {
      "cell_type": "code",
      "source": [],
      "metadata": {
        "id": "OeslWQDDXuxV"
      },
      "execution_count": null,
      "outputs": []
    }
  ]
}